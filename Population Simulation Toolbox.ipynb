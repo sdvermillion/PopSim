{
 "cells": [
  {
   "cell_type": "markdown",
   "metadata": {},
   "source": [
    "# Introduction"
   ]
  },
  {
   "cell_type": "markdown",
   "metadata": {},
   "source": [
    "The purpose of this document is to illustrate the capabilities in the population simulation toolbox written in python.  The toolbox is a python class object in popsim.py that has numerous functions to aid in simulating population data for IEM.  Let us start by importing the toolbox from popsim.py:"
   ]
  },
  {
   "cell_type": "code",
   "execution_count": 1,
   "metadata": {
    "collapsed": false
   },
   "outputs": [],
   "source": [
    "from popsim import Toolbox"
   ]
  },
  {
   "cell_type": "markdown",
   "metadata": {},
   "source": [
    "The toolbox class contains a number of functions that allow us to adjust the correlation between data features and the autocorrelation between a time series of data sets.  In this demonstration, we will use the toolbox to:\n",
    "1. Generate an uncorrelated data set to act as a seed for further data manipulation\n",
    "2. Create a new data set with autocorrelations representing a change from time step 0 to time step 1\n",
    "3. Change a data set's correlation between features\n",
    "4. Generate copula data from a correlated data seed\n",
    "\n",
    "For use in these demonstrations, let us create a toolbox object:"
   ]
  },
  {
   "cell_type": "code",
   "execution_count": 2,
   "metadata": {
    "collapsed": false
   },
   "outputs": [],
   "source": [
    "t = Toolbox()"
   ]
  },
  {
   "cell_type": "markdown",
   "metadata": {},
   "source": [
    "Additionally, let us import some useful python libraries that will help us analyze and visual our demonstrations:"
   ]
  },
  {
   "cell_type": "code",
   "execution_count": 3,
   "metadata": {
    "collapsed": true
   },
   "outputs": [],
   "source": [
    "import numpy as np\n",
    "import glob\n",
    "import matplotlib.pyplot as plt\n",
    "from scipy.stats import spearmanr\n",
    "from scipy.stats import pearsonr\n",
    "from scipy.stats import norm"
   ]
  },
  {
   "cell_type": "markdown",
   "metadata": {},
   "source": [
    "# Demonstrations"
   ]
  },
  {
   "cell_type": "markdown",
   "metadata": {},
   "source": [
    "## Generating a random, uncorrelated data seed"
   ]
  },
  {
   "cell_type": "markdown",
   "metadata": {},
   "source": [
    "Arguably, we desire an initial data seed that we can later manipulate as needed.  By generating an initial seed and manipulating it, we know that the first data point in all of our subsequent manipulations correlate to each other, same with the second data point, third data point, and so on.  If we generate two sets of data independently, then the first data points in each set are not correlated, and thus they would not necessarily represent, for example, the same person in an insider threat context.  By creating a seed data set, we initialize each person's data set, and we can control it in a systematic way.\n",
    "\n",
    "The toolbox's generate_seed() function to create an uncorrelated data sample, $X$, from a multivariate Gaussian distribution such that $X \\sim N(\\textbf{0}, \\textbf{I})$, where $\\textbf{0}$ and $\\textbf{I}$ are a vector of zeros and an identity matrix of complementary size.  Let us create a seed with 50 features and 1000 data points:"
   ]
  },
  {
   "cell_type": "code",
   "execution_count": 4,
   "metadata": {
    "collapsed": false
   },
   "outputs": [],
   "source": [
    "X_seed = t.generate_seed(50,1000)"
   ]
  },
  {
   "cell_type": "markdown",
   "metadata": {},
   "source": [
    "Let's verify that the seed data has the correct shape.  The number of rows in the data set should be 1000 and the number of columns should be 50 so that the shape should be (1000,50)."
   ]
  },
  {
   "cell_type": "code",
   "execution_count": 5,
   "metadata": {
    "collapsed": false
   },
   "outputs": [
    {
     "name": "stdout",
     "output_type": "stream",
     "text": [
      "(1000, 50)\n"
     ]
    }
   ],
   "source": [
    "print(X_seed.shape)"
   ]
  },
  {
   "cell_type": "markdown",
   "metadata": {
    "collapsed": false
   },
   "source": [
    "Now, let's verify that the features in the seed data are uncorrelated.  For this, compute the Spearman rank correlation coefficient.  Ideally, the correlation between a feature and itself should be one and the correlation between a feature and another feature should be zero.  Let's see if the diagonal of the correlation matrix consists of all ones:"
   ]
  },
  {
   "cell_type": "code",
   "execution_count": 6,
   "metadata": {
    "collapsed": false
   },
   "outputs": [
    {
     "data": {
      "text/plain": [
       "True"
      ]
     },
     "execution_count": 6,
     "metadata": {},
     "output_type": "execute_result"
    }
   ],
   "source": [
    "np.all(np.diag(spearmanr(X_seed)[0])) == True"
   ]
  },
  {
   "cell_type": "markdown",
   "metadata": {
    "collapsed": true
   },
   "source": [
    "For practicality, we will accept some error in the correlation between different features.  In other words, it is acceptable if the correlation is nonzero as long as the correlation is sufficiently small.  Let's see the maximum absolute correlation in the seed data (not including the self-correlations):"
   ]
  },
  {
   "cell_type": "code",
   "execution_count": 7,
   "metadata": {
    "collapsed": false
   },
   "outputs": [
    {
     "data": {
      "text/plain": [
       "0.032485412485412486"
      ]
     },
     "execution_count": 7,
     "metadata": {},
     "output_type": "execute_result"
    }
   ],
   "source": [
    "np.max(abs(np.triu(spearmanr(X_seed)[0], 1)))"
   ]
  },
  {
   "cell_type": "markdown",
   "metadata": {},
   "source": [
    "The maximum allowable correlation error is subjective.  If this error is too large, you may choose to generate another sample."
   ]
  },
  {
   "cell_type": "markdown",
   "metadata": {},
   "source": [
    "## Generating an autocorrelated data seed"
   ]
  },
  {
   "cell_type": "markdown",
   "metadata": {},
   "source": [
    "In the previous demonstration, we generated an uncorrelated data seed.  Now, let's generate another data seed that has a set autocorrelation with the previously generated seed.  We might desire to have two data seeds that have a specific autocorrelation in order to represent data correlation across time steps.  Therefore, if the generate_seed() function in the toolbox creates a data seed for time step 0, the toolbox's time_fit() function transforms that data seed to create a data seed for time step 1.  While this new data seed is correlated to the supplied data seed, the features in the new data seed are uncorrelated.\n",
    "\n",
    "We use a conditional distribution of a multivariate Gaussian distribution to generate the new data set such that $X_{i,t+1}\\,|\\,X_{i,t} = x_{i,t} \\sim N(\\rho_i \\times x_{i,t}, (1 - \\rho_i^2)\\times \\mathbf{I})$, where $i$ in the feature index, $t$ is the time step, and $\\rho_i$ is the autocorrelation for feature $i$.  Let us generate a new data seed from the original seed with the autocorrelation for every feature as 0.5:"
   ]
  },
  {
   "cell_type": "code",
   "execution_count": 8,
   "metadata": {
    "collapsed": false
   },
   "outputs": [],
   "source": [
    "X_step = t.time_fit(X_seed, 0.5*np.ones(50))"
   ]
  },
  {
   "cell_type": "markdown",
   "metadata": {},
   "source": [
    "Now let's verify that the autocorrelation between a feature in the original data seed and that feature in the new data seed is close to 0.5:"
   ]
  },
  {
   "cell_type": "code",
   "execution_count": 9,
   "metadata": {
    "collapsed": false
   },
   "outputs": [
    {
     "name": "stdout",
     "output_type": "stream",
     "text": [
      "Max autocorrelation: 0.520444516445\n",
      "Mean autocorrelation: 0.483538548419\n",
      "Min autocorrelation: 0.441896325896\n"
     ]
    }
   ],
   "source": [
    "corr = np.zeros(50)\n",
    "for i in range(50):\n",
    "    corr[i] = spearmanr(X_seed[:,i],X_step[:,i])[0]\n",
    "    \n",
    "print('Max autocorrelation: ' + str(max(corr)))\n",
    "print('Mean autocorrelation: ' + str(np.mean(corr)))\n",
    "print('Min autocorrelation: ' + str(min(corr)))"
   ]
  },
  {
   "cell_type": "markdown",
   "metadata": {},
   "source": [
    "Now let's check the maximum correlation between features in the new data seed.  Remember, this new data seed should have very little correlation between its features similar to the original, uncorrelated data seed:"
   ]
  },
  {
   "cell_type": "code",
   "execution_count": 10,
   "metadata": {
    "collapsed": false
   },
   "outputs": [
    {
     "data": {
      "text/plain": [
       "0.034162090162090167"
      ]
     },
     "execution_count": 10,
     "metadata": {},
     "output_type": "execute_result"
    }
   ],
   "source": [
    "np.max(abs(np.triu(spearmanr(X_step)[0], 1)))"
   ]
  },
  {
   "cell_type": "markdown",
   "metadata": {},
   "source": [
    "Currently, the time_fit() function in the toolbox only supports using one past time step to generate a new data seed.  Future capability will allow for multiple times steps to be used, e.g. using t-2, t-1, and t to generate t+1"
   ]
  },
  {
   "cell_type": "markdown",
   "metadata": {},
   "source": [
    "## Generating a correlated data seed"
   ]
  },
  {
   "cell_type": "markdown",
   "metadata": {},
   "source": [
    "In the above demonstrations, we are expliciting keeping features uncorrelated.  Now, let's transform an uncorrelated seed to be correlated.  We accomplish this by using a Cholesky transform on the uncorrelated data seed.  The Cholesky transform uses information from our desired correlation matrix to do linear algebra on the uncorrelated data seed.\n",
    "\n",
    "Let us generate a correlated data set using our original uncorrelated seed.  We wish our desired correlation between each feature to be 0.75:"
   ]
  },
  {
   "cell_type": "code",
   "execution_count": 11,
   "metadata": {
    "collapsed": true
   },
   "outputs": [],
   "source": [
    "sigma = 0.99*np.ones((50,50)) + 0.01*np.eye(50)\n",
    "X_corr = t.corr_fit(X_seed,sigma)"
   ]
  },
  {
   "cell_type": "markdown",
   "metadata": {},
   "source": [
    "Now let's verify that the correlations between different features is approximately 0.99:"
   ]
  },
  {
   "cell_type": "code",
   "execution_count": 12,
   "metadata": {
    "collapsed": false
   },
   "outputs": [
    {
     "name": "stdout",
     "output_type": "stream",
     "text": [
      "Max correlation: 0.990099402099\n",
      "Mean correlation: 0.989249303137\n",
      "Min correlation: 0.988514068514\n"
     ]
    }
   ],
   "source": [
    "corr = abs(np.triu(spearmanr(X_corr)[0], 1))\n",
    "corr = corr[np.nonzero(corr)]\n",
    "print('Max correlation: ' + str(np.max(corr)))\n",
    "print('Mean correlation: ' + str(np.mean(corr)))\n",
    "print('Min correlation: ' + str(np.min(corr)))"
   ]
  },
  {
   "cell_type": "markdown",
   "metadata": {},
   "source": [
    "## Generating a copula data seed"
   ]
  },
  {
   "cell_type": "markdown",
   "metadata": {},
   "source": [
    "Above, we generated a correlated seed data set that is drawn from multivariate Gaussian distribution.  We can transform this correlated data set into a copula data set, i.e. one where the marginal distributions of each feature is uniform.  "
   ]
  },
  {
   "cell_type": "code",
   "execution_count": 13,
   "metadata": {
    "collapsed": true
   },
   "outputs": [],
   "source": [
    "X_copula = t.copula_fit(X_corr)"
   ]
  },
  {
   "cell_type": "markdown",
   "metadata": {},
   "source": [
    "Since we are generating a copula data set from the X_corr data set, we should retain the correlations between the different features encoded in X_corr.  Let's verify that that the correlation of the copula data set is the same as the correlated data set above:"
   ]
  },
  {
   "cell_type": "code",
   "execution_count": 14,
   "metadata": {
    "collapsed": false
   },
   "outputs": [
    {
     "data": {
      "text/plain": [
       "True"
      ]
     },
     "execution_count": 14,
     "metadata": {},
     "output_type": "execute_result"
    }
   ],
   "source": [
    "np.all(spearmanr(X_copula)[0] == spearmanr(X_corr)[0])"
   ]
  },
  {
   "cell_type": "markdown",
   "metadata": {
    "collapsed": true
   },
   "source": [
    "# RCP12 with the Toolbox"
   ]
  },
  {
   "cell_type": "markdown",
   "metadata": {},
   "source": [
    "Let's now turn out focus specifically to generating answers for RCP12.  In this RCP, we are tasked with predicting the probability of labeling an individual as either a technical staffer, administrive staffer, manager, or student given their actual label.  Let's begin with importing some useful libraries:"
   ]
  },
  {
   "cell_type": "code",
   "execution_count": 15,
   "metadata": {
    "collapsed": true
   },
   "outputs": [],
   "source": [
    "from scipy.stats import rv_histogram\n",
    "from scipy.stats import rv_discrete\n",
    "from scipy.stats import bernoulli\n",
    "from sklearn import tree\n",
    "from sklearn.metrics import confusion_matrix"
   ]
  },
  {
   "cell_type": "markdown",
   "metadata": {},
   "source": [
    "Now, we import and save the provided histograms for each group as probability objects.  We save Detector 1 as a bernoulli distribution since it can only take a value of 0 and 1, and we save Detectors 3h and 3i as descrete distributions since the provided histograms provide proportions for each integer.  We import the technical staffers' histograms below:"
   ]
  },
  {
   "cell_type": "code",
   "execution_count": 16,
   "metadata": {
    "collapsed": false
   },
   "outputs": [],
   "source": [
    "tech = ()\n",
    "for i,file in enumerate(glob.glob(r'dataFiles\\01 Technical Staff\\*.csv')):\n",
    "    data = t.dim_check(np.genfromtxt(file, skip_header = 1, delimiter = \",\"))\n",
    "    hist = data[:,2]\n",
    "    bin_edges = np.append(data[0,0], data[:,1])\n",
    "    blah = (hist,bin_edges)\n",
    "    if i == 0:\n",
    "        p = data[1,2]/np.sum(data[:,2])\n",
    "        tech = tech + (bernoulli(p),)\n",
    "    elif i > 9 and i <= 11:\n",
    "        p = data[:,2]/np.sum(data[:,2])\n",
    "        x = data[p != 0.,0]\n",
    "        p = p[p != 0]\n",
    "        tech = tech + (rv_discrete(values = (x,p)),)\n",
    "    else:\n",
    "        tech = tech + (rv_histogram(blah),)"
   ]
  },
  {
   "cell_type": "markdown",
   "metadata": {},
   "source": [
    "The admin staffer's histograms below:"
   ]
  },
  {
   "cell_type": "code",
   "execution_count": 17,
   "metadata": {
    "collapsed": false
   },
   "outputs": [],
   "source": [
    "admin = ()\n",
    "for i,file in enumerate(glob.glob(r'dataFiles\\02 Admins\\*.csv')):\n",
    "    data = t.dim_check(np.genfromtxt(file, skip_header = 1, delimiter = \",\"))\n",
    "    hist = data[:,2]\n",
    "    bin_edges = np.append(data[0,0], data[:,1])\n",
    "    blah = (hist,bin_edges)\n",
    "    if i == 0:\n",
    "        p = data[1,2]/np.sum(data[:,2])\n",
    "        admin = admin + (bernoulli(p),)\n",
    "    elif i > 9 and i <= 11:\n",
    "        p = data[:,2]/np.sum(data[:,2])\n",
    "        x = data[p != 0.,0]\n",
    "        p = p[p != 0]\n",
    "        admin = admin + (rv_discrete(values = (x,p)),)\n",
    "    else:\n",
    "        admin = admin + (rv_histogram(blah),)"
   ]
  },
  {
   "cell_type": "markdown",
   "metadata": {},
   "source": [
    "...and the managers' historgams..."
   ]
  },
  {
   "cell_type": "code",
   "execution_count": 18,
   "metadata": {
    "collapsed": true
   },
   "outputs": [],
   "source": [
    "management = ()\n",
    "for i,file in enumerate(glob.glob(r'dataFiles\\03 Management\\*.csv')):\n",
    "    data = t.dim_check(np.genfromtxt(file, skip_header = 1, delimiter = \",\"))\n",
    "    hist = data[:,2]\n",
    "    bin_edges = np.append(data[0,0], data[:,1])\n",
    "    blah = (hist,bin_edges)\n",
    "    if i == 0:\n",
    "        p = data[1,2]/np.sum(data[:,2])\n",
    "        management = management + (bernoulli(p),)\n",
    "    elif i > 9 and i <= 11:\n",
    "        p = data[:,2]/np.sum(data[:,2])\n",
    "        x = data[p != 0.,0]\n",
    "        p = p[p != 0]\n",
    "        management = management + (rv_discrete(values = (x,p)),)\n",
    "    else:\n",
    "        management = management + (rv_histogram(blah),)"
   ]
  },
  {
   "cell_type": "markdown",
   "metadata": {},
   "source": [
    "...and finally the students' histograms:"
   ]
  },
  {
   "cell_type": "code",
   "execution_count": 19,
   "metadata": {
    "collapsed": false
   },
   "outputs": [],
   "source": [
    "student = ()\n",
    "for i,file in enumerate(glob.glob(r'dataFiles\\04 Students\\*.csv')):\n",
    "    data = t.dim_check(np.genfromtxt(file, skip_header = 1, delimiter = \",\"))\n",
    "    hist = data[:,2]\n",
    "    bin_edges = np.append(data[0,0], data[:,1])\n",
    "    blah = (hist,bin_edges)\n",
    "    if i == 0:\n",
    "        p = data[1,2]/np.sum(data[:,2])\n",
    "        student = student + (bernoulli(p),)\n",
    "    elif i > 9 and i <= 11:\n",
    "        p = data[:,2]/np.sum(data[:,2])\n",
    "        x = data[p != 0.,0]\n",
    "        p = p[p != 0]\n",
    "        student = student + (rv_discrete(values = (x,p)),)\n",
    "    else:\n",
    "        student = student + (rv_histogram(blah),)"
   ]
  },
  {
   "cell_type": "markdown",
   "metadata": {},
   "source": [
    "With all of this histograms imported and saved, we now generate population seeds for each group:"
   ]
  },
  {
   "cell_type": "code",
   "execution_count": 20,
   "metadata": {
    "collapsed": false
   },
   "outputs": [],
   "source": [
    "tech_seed = t.generate_seed(16,1439)\n",
    "admin_seed = t.generate_seed(16,199)\n",
    "mgmt_seed = t.generate_seed(16,247)\n",
    "stud_seed = t.generate_seed(16,10)"
   ]
  },
  {
   "cell_type": "markdown",
   "metadata": {},
   "source": [
    "We now run a Monte Carlo simulation where we fit the seed populations with random correlation matrices and adjust the marginals according to the imported histograms.  We do this procedure once to generate a training population to train the decision tree classifier then repeat the procedure to generate a test population to generate forecast questions."
   ]
  },
  {
   "cell_type": "code",
   "execution_count": 21,
   "metadata": {
    "collapsed": false
   },
   "outputs": [],
   "source": [
    "Yt = 0*np.ones((1439,1))# Technical\n",
    "Ya = 1*np.ones((199,1))# Admins\n",
    "Ym = 2*np.ones((247,1))# Management\n",
    "Ys = 3*np.ones((10,1))# Students\n",
    "y = np.concatenate((Yt,Ya,Ym,Ys))\n",
    "\n",
    "raw = np.zeros((1000,16))*np.nan\n",
    "for j in range(1000):\n",
    "    # Training\n",
    "    df = 16#np.random.randint(16, 1000)\n",
    "    tech_corr = t.copula_fit(t.corr_fit(tech_seed,t.random_corr_matrix(df,np.eye(16))))\n",
    "    TechSample = np.zeros(tech_corr.shape)\n",
    "    for i in range(tech_corr.shape[1]):\n",
    "        TechSample[:,i] = tech[i].ppf(tech_corr[:,i])\n",
    "\n",
    "    #df = np.random.randint(16, 1000)\n",
    "    admin_corr = t.copula_fit(t.corr_fit(admin_seed,t.random_corr_matrix(df,np.eye(16))))\n",
    "    AdminSample = np.zeros(admin_corr.shape)\n",
    "    for i in range(admin_corr.shape[1]):\n",
    "        AdminSample[:,i] = admin[i].ppf(admin_corr[:,i])\n",
    "        \n",
    "    #df = np.random.randint(16, 1000)\n",
    "    mgmt_corr = t.copula_fit(t.corr_fit(mgmt_seed,t.random_corr_matrix(df,np.eye(16))))\n",
    "    MgmtSample = np.zeros(mgmt_corr.shape)\n",
    "    for i in range(mgmt_corr.shape[1]):\n",
    "        MgmtSample[:,i] = management[i].ppf(mgmt_corr[:,i])\n",
    "        \n",
    "    #df = np.random.randint(16, 1000)\n",
    "    stud_corr = t.copula_fit(t.corr_fit(stud_seed,t.random_corr_matrix(df,np.eye(16))))\n",
    "    StudSample = np.zeros(stud_corr.shape)\n",
    "    for i in range(tech_corr.shape[1]):\n",
    "        StudSample[:,i] = student[i].ppf(stud_corr[:,i])\n",
    "        \n",
    "    X = np.concatenate((TechSample,AdminSample,MgmtSample,StudSample))\n",
    "    \n",
    "    clf = tree.DecisionTreeClassifier(max_depth = 6, class_weight = 'balanced')\n",
    "    clf.fit(X,y)\n",
    "    \n",
    "    # Testing\n",
    "    #df = np.random.randint(16, 1000)\n",
    "    tech_corr = t.copula_fit(t.corr_fit(tech_seed,t.random_corr_matrix(df,np.eye(16))))\n",
    "    TechSample = np.zeros(tech_corr.shape)\n",
    "    for i in range(tech_corr.shape[1]):\n",
    "        TechSample[:,i] = tech[i].ppf(tech_corr[:,i])\n",
    "\n",
    "    #df = np.random.randint(16, 1000)\n",
    "    admin_corr = t.copula_fit(t.corr_fit(admin_seed,t.random_corr_matrix(df,np.eye(16))))\n",
    "    AdminSample = np.zeros(admin_corr.shape)\n",
    "    for i in range(admin_corr.shape[1]):\n",
    "        AdminSample[:,i] = admin[i].ppf(admin_corr[:,i])\n",
    "\n",
    "    #df = np.random.randint(16, 1000)\n",
    "    mgmt_corr = t.copula_fit(t.corr_fit(mgmt_seed,t.random_corr_matrix(df,np.eye(16))))\n",
    "    MgmtSample = np.zeros(mgmt_corr.shape)\n",
    "    for i in range(mgmt_corr.shape[1]):\n",
    "        MgmtSample[:,i] = management[i].ppf(mgmt_corr[:,i])\n",
    "\n",
    "    #df = np.random.randint(16, 1000)\n",
    "    stud_corr = t.copula_fit(t.corr_fit(stud_seed,t.random_corr_matrix(df,np.eye(16))))\n",
    "    StudSample = np.zeros(stud_corr.shape)\n",
    "    for i in range(tech_corr.shape[1]):\n",
    "        StudSample[:,i] = student[i].ppf(stud_corr[:,i])\n",
    "        \n",
    "    X = np.concatenate((TechSample,AdminSample,MgmtSample,StudSample))\n",
    "    \n",
    "    y_pred = clf.predict(X)\n",
    "    \n",
    "    cm = confusion_matrix(y, y_pred)\n",
    "    row_sums = cm.sum(axis=1)\n",
    "    raw[j,:] = (cm / row_sums[:, np.newaxis]).flatten()"
   ]
  },
  {
   "cell_type": "markdown",
   "metadata": {},
   "source": [
    "Below, we get the answer distributions and generate answer certainty intervals:"
   ]
  },
  {
   "cell_type": "code",
   "execution_count": 22,
   "metadata": {
    "collapsed": true
   },
   "outputs": [],
   "source": [
    "answers = np.zeros((3,16))\n",
    "for i in range(16):\n",
    "    ans = rv_histogram(np.histogram(raw[:,i], bins = 1000))\n",
    "    answers[0,i] = ans.ppf(.8)\n",
    "    answers[1,i] = ans.mean()\n",
    "    answers[2,i] = ans.ppf(.2)\n",
    "#np.savetxt('answers.csv', answers, delimiter=',')"
   ]
  },
  {
   "cell_type": "markdown",
   "metadata": {},
   "source": [
    "... and plot the intervals..."
   ]
  },
  {
   "cell_type": "code",
   "execution_count": 23,
   "metadata": {
    "collapsed": false
   },
   "outputs": [
    {
     "data": {
      "image/png": "[encoded data removed]",
      "text/plain": [
       "<matplotlib.figure.Figure at 0x22d68fcc908>"
      ]
     },
     "metadata": {},
     "output_type": "display_data"
    }
   ],
   "source": [
    "gt = np.genfromtxt('RCP12results.csv', delimiter = ',')\n",
    "plt.figure(figsize=(10,5))\n",
    "a_err = [answers[1,:]-answers[2,:],answers[0,:]-answers[1,:]]\n",
    "plt.plot(np.arange(1,17,1), gt[:,2], ls = '', marker = 'd', color = 'k', label = 'Ground Truth')\n",
    "plt.errorbar(np.arange(1,17,1), answers[1,:], yerr = a_err,\n",
    "             fmt='o', markersize = 5, capsize=2, label = 'Answers')\n",
    "plt.xlabel('Forecast Question')\n",
    "plt.ylabel('Probability')\n",
    "plt.legend()\n",
    "plt.show()"
   ]
  },
  {
   "cell_type": "markdown",
   "metadata": {},
   "source": [
    "Finally, let's score our forecasts against ground truth:"
   ]
  },
  {
   "cell_type": "code",
   "execution_count": 24,
   "metadata": {
    "collapsed": true
   },
   "outputs": [],
   "source": [
    "def scoring(t, a):\n",
    "\ty = np.zeros(3)\n",
    "\tCIC = 0\n",
    "\tISR = 0\n",
    "\ty[0] = ((t - a[1,:])**2).mean()\n",
    "\tfor i in range(len(t)):\n",
    "\t\tif a[0,i] > t[i] and a[2,i] < t[i]:\n",
    "\t\t\tCIC = CIC + 1\n",
    "\t\tISR = ISR + (a[0,i] - a[2,i]) + 5*(t[i] - a[0,i])*(t[i] > a[0,i]).astype('float') + 5*(a[2,i] - t[i])*(a[2,i] > t[i]).astype('float')\n",
    "\t\t\n",
    "\ty[1] = 1/len(t)*CIC\n",
    "\ty[2] = 1/len(t)*ISR\n",
    "\t\n",
    "\treturn y"
   ]
  },
  {
   "cell_type": "code",
   "execution_count": 25,
   "metadata": {
    "collapsed": false
   },
   "outputs": [
    {
     "name": "stdout",
     "output_type": "stream",
     "text": [
      "MSE: 0.0613660113964\n",
      "CIC: 0.5625\n",
      "ISR: 0.246542301519\n"
     ]
    }
   ],
   "source": [
    "q = scoring(gt[:,2],answers)\n",
    "print('MSE: ' + str(q[0]))\n",
    "print('CIC: ' + str(q[1]))\n",
    "print('ISR: ' + str(q[2]))"
   ]
  },
  {
   "cell_type": "code",
   "execution_count": null,
   "metadata": {
    "collapsed": true
   },
   "outputs": [],
   "source": []
  }
 ],
 "metadata": {
  "kernelspec": {
   "display_name": "Python 3",
   "language": "python",
   "name": "python3"
  },
  "language_info": {
   "codemirror_mode": {
    "name": "ipython",
    "version": 3
   },
   "file_extension": ".py",
   "mimetype": "text/x-python",
   "name": "python",
   "nbconvert_exporter": "python",
   "pygments_lexer": "ipython3",
   "version": "3.6.0"
  }
 },
 "nbformat": 4,
 "nbformat_minor": 2
}
